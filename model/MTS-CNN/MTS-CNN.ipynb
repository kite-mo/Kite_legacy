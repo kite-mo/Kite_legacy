{
 "cells": [
  {
   "cell_type": "code",
   "execution_count": 3,
   "metadata": {},
   "outputs": [],
   "source": [
    "import pandas as pd\n",
    "import numpy as np\n",
    "import matplotlib.pyplot as plt\n",
    "import random\n",
    "\n",
    "import torch\n",
    "import torch.nn as nn\n",
    "import torch.nn.functional as F\n",
    "from torch.utils.data import DataLoader, Dataset\n",
    "\n",
    "device = torch.device('cuda:{}'.format(0) if torch.cuda.is_available() else 'cpu')\n",
    "if torch.cuda.is_available():\n",
    "    torch.cuda.set_device(device) # change allocation of current GPU \n",
    "\n",
    "from sklearn.preprocessing import StandardScaler\n",
    "from sklearn.preprocessing import MinMaxScaler"
   ]
  },
  {
   "cell_type": "markdown",
   "metadata": {},
   "source": [
    "Generete dataset"
   ]
  },
  {
   "cell_type": "code",
   "execution_count": 7,
   "metadata": {},
   "outputs": [],
   "source": [
    "sensor_num = 11\n",
    "sensor_list = [f'Sensor_{num}' for num in range(1, sensor_num + 1)]\n",
    "\n",
    "classes = [0, 1]\n",
    "class_probabilities = [0.9, 0.1]\n",
    "\n",
    "min_data_length, max_data_length = 90, 102\n",
    "data_cycle_num = 5\n",
    "data_num = 50\n",
    "\n",
    "dataset_df_list = []\n",
    "\n",
    "for cycle in range(1, data_cycle_num + 1):\n",
    "    for data_index in range(data_num):\n",
    "        sampling_size = random.sample(range(min_data_length, max_data_length), 1)[0]\n",
    "        class_label = random.choices(classes, class_probabilities, k=1)[0]    \n",
    "\n",
    "        generation_array = np.random.rand(sampling_size, sensor_num)\n",
    "        generation_df = pd.DataFrame(generation_array, columns=sensor_list)\n",
    "        generation_df['cycle'] = cycle\n",
    "        generation_df['key'] = data_index\n",
    "        generation_df['label'] = class_label\n",
    "        \n",
    "        dataset_df_list.append(generation_df)\n",
    "\n",
    "concat_df = pd.concat(dataset_df_list, axis=0).reset_index(drop=True)"
   ]
  },
  {
   "cell_type": "markdown",
   "metadata": {},
   "source": [
    "Get cycle statistic"
   ]
  },
  {
   "cell_type": "code",
   "execution_count": 11,
   "metadata": {},
   "outputs": [],
   "source": [
    "data_key_list = ['key','cycle']\n",
    "\n",
    "cycle_num = concat_df.cycle.unique()\n",
    "cycle_dict = {}\n",
    "\n",
    "c_m_list = []\n",
    "c_s_list = []\n",
    "\n",
    "for cycle in cycle_num:\n",
    "    cycle_df = concat_df[concat_df.cycle == cycle]\n",
    "    wafer_unit = list(cycle_df.groupby(data_key_list)) # KEY 값\n",
    "\n",
    "    w_mean = np.array([df.loc[:, sensor_list].mean().values for info, df in wafer_unit])\n",
    "    w_std = np.array([df.loc[:, sensor_list].std().values for info, df in wafer_unit])\n",
    "\n",
    "    c_mean = np.mean(w_mean, axis = 0)\n",
    "    c_m_list.append(c_mean)\n",
    "    \n",
    "    c_std = np.mean(w_std, axis = 0)\n",
    "    c_s_list.append(c_std)\n",
    "    \n",
    "cycle_dict['mean'] = np.array(c_m_list)\n",
    "cycle_dict['std'] = np.array(c_s_list)"
   ]
  },
  {
   "cell_type": "markdown",
   "metadata": {},
   "source": [
    "Split data"
   ]
  },
  {
   "cell_type": "code",
   "execution_count": 13,
   "metadata": {},
   "outputs": [
    {
     "name": "stdout",
     "output_type": "stream",
     "text": [
      "0    183\n",
      "1     19\n",
      "Name: count, dtype: int64\n",
      "0    18\n",
      "1     5\n",
      "Name: count, dtype: int64\n",
      "0    22\n",
      "1     3\n",
      "Name: count, dtype: int64\n"
     ]
    }
   ],
   "source": [
    "from sklearn.model_selection import train_test_split\n",
    "\n",
    "wafer_list = list(concat_df.groupby(data_key_list)) # KEY 값\n",
    "\n",
    "X_train_, X_test, y_train, y_test = train_test_split(wafer_list, range(len(wafer_list)), test_size = 0.1, random_state=42)\n",
    "\n",
    "X_train, X_valid, y_train, y_valid = train_test_split(X_train_, range(len(X_train_)), test_size = 0.1, random_state=42)\n",
    "\n",
    "split_data = [X_train, X_valid, X_test]\n",
    "\n",
    "for data in split_data:\n",
    "    print(pd.Series([wafer[1].label.unique()[0] for wafer in data]).value_counts())"
   ]
  },
  {
   "cell_type": "markdown",
   "metadata": {},
   "source": [
    "Dataset"
   ]
  },
  {
   "cell_type": "code",
   "execution_count": 18,
   "metadata": {},
   "outputs": [],
   "source": [
    "class datasetAE(Dataset):\n",
    "    def __init__(self, wafer_unit, window_size, max_len, cycle_dict, sensor_list):\n",
    "        \n",
    "        super(datasetAE, self).__init__()\n",
    "        self.wafer_unit = wafer_unit\n",
    "        self.window_size = window_size\n",
    "        self.max_len = max_len\n",
    "        self.cycle_dict = cycle_dict\n",
    "    \n",
    "    def __getitem__(self, idx):\n",
    "        \n",
    "        info = self.wafer_unit[idx][0]\n",
    "        df = self.wafer_unit[idx][1].reset_index(drop=True)\n",
    "    \n",
    "        c_mean = self.cycle_dict['mean'][0]\n",
    "        c_std = self.cycle_dict['std'][0]\n",
    "        y = df.label.unique()[0]\n",
    "        \n",
    "        sensor_df = df.loc[:, sensor_list].reset_index(drop=True)\n",
    "                \n",
    "        # padding length\n",
    "        if len(sensor_df) < self.max_len:\n",
    "            new_index = list(range(self.max_len))\n",
    "            sensor_df = sensor_df.reindex(new_index).ffill()\n",
    "                \n",
    "        sensor_array = np.array(sensor_df)\n",
    "        \n",
    "        # nomralization with cycle mean and std\n",
    "        normed_array = (sensor_array - c_mean) / (c_std)\n",
    "        \n",
    "        # (time_length, sensor_num) -> (sensor_num, time_length)\n",
    "        x = np.array(normed_array).T\n",
    "        # get sliding windows\n",
    "        windows_x = np.lib.stride_tricks.sliding_window_view(x, self.window_size, 1)\n",
    "        \n",
    "        return np.array(windows_x), np.array(y)\n",
    "    \n",
    "    def __len__(self):\n",
    "        return len(self.wafer_unit)"
   ]
  },
  {
   "cell_type": "code",
   "execution_count": 19,
   "metadata": {},
   "outputs": [],
   "source": [
    "max_len = max(set([len(wafer[1]) for wafer in wafer_list]))\n",
    "\n",
    "train_dataset = datasetAE(X_train, 70, max_len, cycle_dict, sensor_list)\n",
    "valid_dataset = datasetAE(X_valid, 70, max_len, cycle_dict, sensor_list)\n",
    "test_dataset = datasetAE(X_test, 70, max_len, cycle_dict, sensor_list)\n",
    "\n",
    "train_loader = DataLoader(train_dataset, batch_size=64, drop_last=True)\n",
    "valid_loader = DataLoader(valid_dataset, batch_size=64, drop_last=True)\n",
    "test_loader = DataLoader(test_dataset, batch_size=1)"
   ]
  },
  {
   "cell_type": "markdown",
   "metadata": {},
   "source": [
    "Model"
   ]
  },
  {
   "cell_type": "code",
   "execution_count": 21,
   "metadata": {},
   "outputs": [],
   "source": [
    "class MTS_CNN(torch.nn.Module):\n",
    "    \n",
    "    def __init__(self, sensor_num):\n",
    "        super(MTS_CNN, self).__init__()\n",
    "           \n",
    "        extract_list = []\n",
    "        diagnosis_list = []\n",
    "        for num in range(sensor_num):\n",
    "            \n",
    "            extract_layer = torch.nn.Sequential(\n",
    "                    torch.nn.Conv1d(in_channels = 32, out_channels = 16, \n",
    "                                    kernel_size = 5),\n",
    "                    torch.nn.ReLU(),\n",
    "                    torch.nn.AvgPool1d(kernel_size = 3, stride = 3),\n",
    "                    torch.nn.Conv1d(in_channels = 16, out_channels = 64, \n",
    "                                    kernel_size = 5),\n",
    "                    torch.nn.ReLU(),\n",
    "                    torch.nn.AvgPool1d(kernel_size = 3, stride = 3),\n",
    "            )\n",
    "\n",
    "            \n",
    "            diagnosis_layer = torch.nn.Sequential(\n",
    "                     torch.nn.Linear(384, 256),\n",
    "                     torch.nn.ReLU(),\n",
    "                     torch.nn.Linear(256, 1),\n",
    "                     torch.nn.Dropout(0.5),\n",
    "                     torch.nn.ReLU(),\n",
    "            )\n",
    "            \n",
    "            extract_list.append(extract_layer)\n",
    "            diagnosis_list.append(diagnosis_layer)\n",
    "        \n",
    "        self.extract_layer = nn.ModuleList(extract_list)\n",
    "        self.diagnosis_layer = nn.ModuleList(diagnosis_list)\n",
    "        \n",
    "        self.detection_layer = torch.nn.Sequential(\n",
    "                                             torch.nn.Linear(sensor_num, 32),\n",
    "                                             torch.nn.ReLU(),\n",
    "                                             torch.nn.Linear(32, 16),\n",
    "                                             torch.nn.Dropout(0.5),\n",
    "                                             torch.nn.ReLU(),\n",
    "                                             torch.nn.Linear(16, 2)\n",
    "                                    )\n",
    "\n",
    "    def forward(self, x):\n",
    "        batch_size, sensor_num, sequence, window_size = x.shape\n",
    "\n",
    "        # (batch_size, sensor_num, sequence, window_size) -> (sensor_num, batch_size, sequence, window_size)\n",
    "        x_ = x.transpose(1,0)\n",
    "\n",
    "        # 센서 별로 convolution 적용        \n",
    "        stack_sensor = []\n",
    "        for sensor_num, x__ in enumerate(x_):\n",
    "            \n",
    "            # (batch_size, sequence, window_size)\n",
    "            # Feature Extraction Layer\n",
    "            feature = self.extract_layer[sensor_num](x__)\n",
    "            \n",
    "            # (batch_size, (*feature_size))\n",
    "            flatten = feature.view(batch_size, -1)\n",
    "            # Fault Diagnosis Layer \n",
    "            diagnosis = self.diagnosis_layer[sensor_num](flatten)\n",
    "            # (batch_size, 1)\n",
    "            stack_sensor.append(diagnosis)\n",
    "        \n",
    "        # Stack By Sensor\n",
    "        # (sensor_num, batch_size, 1) -> (batch_size, sensor_num)\n",
    "        fin_stack = torch.stack(stack_sensor).transpose(0,1).squeeze()\n",
    "        # Fault Detection Layer\n",
    "        output = self.detection_layer(fin_stack)\n",
    "\n",
    "        return output, fin_stack"
   ]
  },
  {
   "cell_type": "code",
   "execution_count": 22,
   "metadata": {},
   "outputs": [],
   "source": [
    "test_tensor = torch.rand(64, 11, 32, 70)\n",
    "model = MTS_CNN(11)\n",
    "output, fin_stack = model(test_tensor)"
   ]
  },
  {
   "cell_type": "markdown",
   "metadata": {},
   "source": [
    "Get sensor importance"
   ]
  },
  {
   "cell_type": "code",
   "execution_count": 23,
   "metadata": {},
   "outputs": [
    {
     "data": {
      "image/png": "[encoded data removed]",
      "text/plain": [
       "<Figure size 1500x1000 with 1 Axes>"
      ]
     },
     "metadata": {},
     "output_type": "display_data"
    }
   ],
   "source": [
    "weight_dict = {}\n",
    "for name, param in model.named_parameters():\n",
    "    layer_name = name.split('.')[0]\n",
    "    if layer_name == 'diagnosis_layer':\n",
    "        if name.split('.')[-2] == '2' and name.split('.')[-1] == 'weight':\n",
    "            sensor_weight = param.detach().cpu().numpy()\n",
    "            weight_dict[name] = sensor_weight.reshape(-1)\n",
    "\n",
    "\n",
    "plt.figure(figsize = [15, 10])\n",
    "box_list = []\n",
    "for sensor_weight in list(weight_dict.values()):\n",
    "    box_list.append(sensor_weight)\n",
    "    \n",
    "plt.boxplot(box_list)\n",
    "plt.xticks(range(1, 12), sensor_list,  rotation=20)\n",
    "plt.show()"
   ]
  },
  {
   "cell_type": "code",
   "execution_count": null,
   "metadata": {},
   "outputs": [],
   "source": []
  },
  {
   "cell_type": "code",
   "execution_count": null,
   "metadata": {},
   "outputs": [],
   "source": []
  },
  {
   "cell_type": "code",
   "execution_count": null,
   "metadata": {},
   "outputs": [],
   "source": []
  }
 ],
 "metadata": {
  "kernelspec": {
   "display_name": "kitemo_env_240708",
   "language": "python",
   "name": "python3"
  },
  "language_info": {
   "codemirror_mode": {
    "name": "ipython",
    "version": 3
   },
   "file_extension": ".py",
   "mimetype": "text/x-python",
   "name": "python",
   "nbconvert_exporter": "python",
   "pygments_lexer": "ipython3",
   "version": "3.12.4"
  }
 },
 "nbformat": 4,
 "nbformat_minor": 2
}
