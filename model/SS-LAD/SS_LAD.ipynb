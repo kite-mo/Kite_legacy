{
 "cells": [
  {
   "cell_type": "code",
   "execution_count": 1,
   "metadata": {},
   "outputs": [],
   "source": [
    "from src import dataset_, model_, train_, inference_\n",
    "from src.utils import *\n",
    "import seaborn as sns\n",
    "import umap\n",
    "from sklearn.manifold import TSNE\n",
    "\n",
    "import warnings\n",
    "warnings.filterwarnings(action='ignore')\n",
    "\n",
    "device = torch.device('cuda:{}'.format(0) if torch.cuda.is_available() else 'cpu')\n",
    "torch.cuda.set_device(device) # change allocation of current GPU"
   ]
  },
  {
   "attachments": {},
   "cell_type": "markdown",
   "metadata": {},
   "source": [
    "Load Data"
   ]
  },
  {
   "cell_type": "code",
   "execution_count": 2,
   "metadata": {},
   "outputs": [],
   "source": [
    "total_df = pd.read_feather('/home/yeonmo/2023/study/2023_KCS/H2_Ar/data/h2_ar_df.ftr')\n",
    "oes_list = pd.read_pickle('/home/yeonmo/2023/study/2023_KCS/H2_Ar/data/wavelengths_30.pkl')\n",
    "dataset_dict = pd.read_pickle('/home/yeonmo/2023/study/2023_KCS/H2_Ar/data/dataset_dict_fix.pkl')"
   ]
  },
  {
   "cell_type": "code",
   "execution_count": 3,
   "metadata": {},
   "outputs": [],
   "source": [
    "key_list = ['id', 'cycle']\n",
    "info_list = ['time', 'torr', 'leak']\n",
    "\n",
    "wafer_columns = info_list + key_list + oes_list\n",
    "wafer_df = total_df.loc[:, wafer_columns]\n",
    "\n",
    "total_wafer =  sort_wafer_by_time(wafer_df, key_list)\n",
    "\n",
    "fin_wafer_df = pd.concat([w for i, w in total_wafer], axis = 0).reset_index(drop=True)\n",
    "cycle_dict = get_cycle_dict(fin_wafer_df, wafer_columns, key_list, info_list)\n",
    "\n",
    "pre_train_set, train_set, test_set = dataset_dict['pre_train'], dataset_dict['train'], dataset_dict['test']"
   ]
  },
  {
   "cell_type": "code",
   "execution_count": 4,
   "metadata": {},
   "outputs": [
    {
     "name": "stdout",
     "output_type": "stream",
     "text": [
      "1.0    90\n",
      "dtype: int64\n",
      " 0.0    323\n",
      " 1.0     59\n",
      "-1.0      9\n",
      "dtype: int64\n",
      "0.0    108\n",
      "1.0     72\n",
      "dtype: int64\n"
     ]
    }
   ],
   "source": [
    "fin_dataset_list = [pre_train_set, train_set, test_set]\n",
    "\n",
    "for dataset in fin_dataset_list:\n",
    "    print(pd.Series([wafer.leak.unique()[0] for info, wafer in dataset]).value_counts())"
   ]
  },
  {
   "attachments": {},
   "cell_type": "markdown",
   "metadata": {},
   "source": [
    "Make data loader"
   ]
  },
  {
   "cell_type": "code",
   "execution_count": 5,
   "metadata": {},
   "outputs": [],
   "source": [
    "max_len = np.max([len(w) for i, w in total_wafer]) \n",
    "\n",
    "pre_train_dataset = dataset_.dataset_base_ae(pre_train_set, max_len, cycle_dict, oes_list)\n",
    "train_dataset = dataset_.dataset_base_ae(train_set, max_len, cycle_dict, oes_list)\n",
    "test_dataset = dataset_.dataset_base_ae(test_set, max_len, cycle_dict, oes_list)\n",
    "\n",
    "pre_train_loader = DataLoader(pre_train_dataset, batch_size=30, drop_last=True)\n",
    "train_loader = DataLoader(train_dataset, batch_size=32, drop_last=True, shuffle = True)\n",
    "test_loader = DataLoader(test_dataset, batch_size=12, drop_last=False)"
   ]
  },
  {
   "attachments": {},
   "cell_type": "markdown",
   "metadata": {},
   "source": [
    "Load trained SS-LAD model"
   ]
  },
  {
   "cell_type": "code",
   "execution_count": 6,
   "metadata": {},
   "outputs": [
    {
     "name": "stdout",
     "output_type": "stream",
     "text": [
      "/home/yeonmo/2023/study/2023_KCS/H2_Ar/Model_jup/Deep_SAD_VAE_channel/2023_01_13/Deep_SAD_channel_epoch_388_valid_loss_0.4775435986618201.pt\n"
     ]
    },
    {
     "data": {
      "text/plain": [
       "<All keys matched successfully>"
      ]
     },
     "execution_count": 6,
     "metadata": {},
     "output_type": "execute_result"
    }
   ],
   "source": [
    "sensor_num = train_dataset[0][0].shape[0]\n",
    "latent_dim = 100\n",
    "VAE = model_.base_VAE(sensor_num, latent_dim).to(device)\n",
    "ss_lad_model = VAE.encoder\n",
    "\n",
    "best_model_path = '/home/yeonmo/2023/study/2023_KCS/H2_Ar/Model_jup/Deep_SAD_VAE_channel/2023_01_13'\n",
    "model_pt = glob.glob(best_model_path + '/*')[-1]\n",
    "print(model_pt)\n",
    "\n",
    "checkpoint = torch.load(model_pt)\n",
    "ss_lad_model.load_state_dict((checkpoint['model_state_dict']))"
   ]
  },
  {
   "attachments": {},
   "cell_type": "markdown",
   "metadata": {},
   "source": [
    "Get hypersphere center"
   ]
  },
  {
   "cell_type": "code",
   "execution_count": 12,
   "metadata": {},
   "outputs": [
    {
     "name": "stderr",
     "output_type": "stream",
     "text": [
      "100%|██████████| 3/3 [00:00<00:00,  8.76it/s]\n"
     ]
    }
   ],
   "source": [
    "ss_lad_center = inference_.get_hypersphere_center(ss_lad_model, pre_train_loader, device, type ='vae')"
   ]
  },
  {
   "attachments": {},
   "cell_type": "markdown",
   "metadata": {},
   "source": [
    "Inference SS-LAD"
   ]
  },
  {
   "cell_type": "code",
   "execution_count": 13,
   "metadata": {},
   "outputs": [],
   "source": [
    "layer_range = [0,1,2,3,4]\n",
    "fin_concat_latent, fin_label_list = inference_.inference_ss_lad(ss_lad_model, \n",
    "                                                                test_loader, \n",
    "                                                                device,\n",
    "                                                                layer_range=layer_range,\n",
    "                                                                type = 'vae')"
   ]
  },
  {
   "attachments": {},
   "cell_type": "markdown",
   "metadata": {},
   "source": [
    "Plot 2-dimension using UMAP"
   ]
  },
  {
   "cell_type": "code",
   "execution_count": 14,
   "metadata": {},
   "outputs": [
    {
     "data": {
      "text/plain": [
       "<AxesSubplot:xlabel='x_1', ylabel='x_2'>"
      ]
     },
     "execution_count": 14,
     "metadata": {},
     "output_type": "execute_result"
    },
    {
     "data": {
      "image/png": "[encoded data removed]",
      "text/plain": [
       "<Figure size 432x288 with 1 Axes>"
      ]
     },
     "metadata": {
      "needs_background": "light"
     },
     "output_type": "display_data"
    }
   ],
   "source": [
    "umap_ = umap.UMAP(n_components=2)\n",
    "X_latent = umap_.fit_transform(fin_concat_latent)\n",
    "latent_with_label = np.concatenate([X_latent, fin_label_list.reshape(-1, 1)], axis = 1)\n",
    "\n",
    "fin_info_df = pd.DataFrame(latent_with_label, columns = ['x_1', 'x_2', 'label'])\n",
    "\n",
    "fin_info_df.loc[fin_info_df[fin_info_df.label == 0].index, 'label'] = 'normal'\n",
    "fin_info_df.loc[fin_info_df[fin_info_df.label == 1].index, 'label'] = 'abnormal'\n",
    "\n",
    "sns.scatterplot(data = fin_info_df, x = 'x_1', y = 'x_2', hue = 'label')"
   ]
  },
  {
   "attachments": {},
   "cell_type": "markdown",
   "metadata": {},
   "source": [
    "Plot 2-dimension using TSNE"
   ]
  },
  {
   "cell_type": "code",
   "execution_count": 15,
   "metadata": {},
   "outputs": [
    {
     "data": {
      "text/plain": [
       "<AxesSubplot:xlabel='x_1', ylabel='x_2'>"
      ]
     },
     "execution_count": 15,
     "metadata": {},
     "output_type": "execute_result"
    },
    {
     "data": {
      "image/png": "[encoded data removed]",
      "text/plain": [
       "<Figure size 432x288 with 1 Axes>"
      ]
     },
     "metadata": {
      "needs_background": "light"
     },
     "output_type": "display_data"
    }
   ],
   "source": [
    "tsne_ = TSNE(n_components=2)\n",
    "X_latent = tsne_.fit_transform(fin_concat_latent)\n",
    "latent_with_label = np.concatenate([X_latent, fin_label_list.reshape(-1, 1)], axis = 1)\n",
    "\n",
    "fin_info_df = pd.DataFrame(latent_with_label, columns = ['x_1', 'x_2', 'label'])\n",
    "\n",
    "fin_info_df.loc[fin_info_df[fin_info_df.label == 0].index, 'label'] = 'normal'\n",
    "fin_info_df.loc[fin_info_df[fin_info_df.label == 1].index, 'label'] = 'abnormal'\n",
    "\n",
    "sns.scatterplot(data = fin_info_df, x = 'x_1', y = 'x_2', hue = 'label')"
   ]
  },
  {
   "attachments": {},
   "cell_type": "markdown",
   "metadata": {},
   "source": [
    "Load ss-vae only latent "
   ]
  },
  {
   "cell_type": "code",
   "execution_count": 11,
   "metadata": {},
   "outputs": [
    {
     "name": "stdout",
     "output_type": "stream",
     "text": [
      "/home/yeonmo/2023/study/2023_KCS/H2_Ar/Model_jup/Deep_SAD_VAE_latent/2023_01_13/Deep_SAD_latent_epoch_360_valid_loss_0.0014671547348067786.pt\n"
     ]
    },
    {
     "data": {
      "text/plain": [
       "<All keys matched successfully>"
      ]
     },
     "execution_count": 11,
     "metadata": {},
     "output_type": "execute_result"
    }
   ],
   "source": [
    "sensor_num = train_dataset[0][0].shape[0]\n",
    "latent_dim = 100\n",
    "VAE = model_.base_VAE(sensor_num, latent_dim).to(device)\n",
    "ss_vae_model = VAE.encoder\n",
    "\n",
    "best_model_path = '/home/yeonmo/2023/study/2023_KCS/H2_Ar/Model_jup/Deep_SAD_VAE_latent/2023_01_13'\n",
    "model_pt = glob.glob(best_model_path + '/*')[-1]\n",
    "print(model_pt)\n",
    "\n",
    "checkpoint = torch.load(model_pt)\n",
    "ss_vae_model.load_state_dict((checkpoint['model_state_dict']))"
   ]
  },
  {
   "attachments": {},
   "cell_type": "markdown",
   "metadata": {},
   "source": [
    "Get ss-vae center|"
   ]
  },
  {
   "cell_type": "code",
   "execution_count": 16,
   "metadata": {},
   "outputs": [
    {
     "name": "stderr",
     "output_type": "stream",
     "text": [
      "100%|██████████| 3/3 [00:00<00:00,  9.14it/s]\n"
     ]
    }
   ],
   "source": [
    "ss_vae_center = inference_.get_hypersphere_center(ss_vae_model, pre_train_loader, device, type ='vae')"
   ]
  },
  {
   "attachments": {},
   "cell_type": "markdown",
   "metadata": {},
   "source": [
    "Inference SS-VAE"
   ]
  },
  {
   "cell_type": "code",
   "execution_count": 17,
   "metadata": {},
   "outputs": [],
   "source": [
    "layer_range = [0,1,2,3,4]\n",
    "fin_concat_latent, fin_label_list = inference_.inference_ss_lad(ss_vae_model, \n",
    "                                                                test_loader, \n",
    "                                                                device,\n",
    "                                                                layer_range=layer_range,\n",
    "                                                                type = 'ae')"
   ]
  },
  {
   "cell_type": "markdown",
   "metadata": {},
   "source": [
    "Plot 2-dimension using UMAP"
   ]
  },
  {
   "cell_type": "code",
   "execution_count": 19,
   "metadata": {},
   "outputs": [
    {
     "data": {
      "text/plain": [
       "<AxesSubplot:xlabel='x_1', ylabel='x_2'>"
      ]
     },
     "execution_count": 19,
     "metadata": {},
     "output_type": "execute_result"
    },
    {
     "data": {
      "image/png": "[encoded data removed]",
      "text/plain": [
       "<Figure size 432x288 with 1 Axes>"
      ]
     },
     "metadata": {
      "needs_background": "light"
     },
     "output_type": "display_data"
    }
   ],
   "source": [
    "umap_ = umap.UMAP(n_components=2)\n",
    "X_latent = umap_.fit_transform(fin_concat_latent)\n",
    "latent_with_label = np.concatenate([X_latent, fin_label_list.reshape(-1, 1)], axis = 1)\n",
    "\n",
    "fin_info_df = pd.DataFrame(latent_with_label, columns = ['x_1', 'x_2', 'label'])\n",
    "\n",
    "fin_info_df.loc[fin_info_df[fin_info_df.label == 0].index, 'label'] = 'normal'\n",
    "fin_info_df.loc[fin_info_df[fin_info_df.label == 1].index, 'label'] = 'abnormal'\n",
    "\n",
    "sns.scatterplot(data = fin_info_df, x = 'x_1', y = 'x_2', hue = 'label')"
   ]
  },
  {
   "attachments": {},
   "cell_type": "markdown",
   "metadata": {},
   "source": [
    "Plot 2-dimension using TSNE"
   ]
  },
  {
   "cell_type": "code",
   "execution_count": 20,
   "metadata": {},
   "outputs": [
    {
     "data": {
      "text/plain": [
       "<AxesSubplot:xlabel='x_1', ylabel='x_2'>"
      ]
     },
     "execution_count": 20,
     "metadata": {},
     "output_type": "execute_result"
    },
    {
     "data": {
      "image/png": "[encoded data removed]",
      "text/plain": [
       "<Figure size 432x288 with 1 Axes>"
      ]
     },
     "metadata": {
      "needs_background": "light"
     },
     "output_type": "display_data"
    }
   ],
   "source": [
    "tsne_ = TSNE(n_components=2)\n",
    "X_latent = tsne_.fit_transform(fin_concat_latent)\n",
    "latent_with_label = np.concatenate([X_latent, fin_label_list.reshape(-1, 1)], axis = 1)\n",
    "\n",
    "fin_info_df = pd.DataFrame(latent_with_label, columns = ['x_1', 'x_2', 'label'])\n",
    "\n",
    "fin_info_df.loc[fin_info_df[fin_info_df.label == 0].index, 'label'] = 'normal'\n",
    "fin_info_df.loc[fin_info_df[fin_info_df.label == 1].index, 'label'] = 'abnormal'\n",
    "\n",
    "sns.scatterplot(data = fin_info_df, x = 'x_1', y = 'x_2', hue = 'label')"
   ]
  },
  {
   "cell_type": "code",
   "execution_count": null,
   "metadata": {},
   "outputs": [],
   "source": []
  }
 ],
 "metadata": {
  "kernelspec": {
   "display_name": "leakage",
   "language": "python",
   "name": "python3"
  },
  "language_info": {
   "codemirror_mode": {
    "name": "ipython",
    "version": 3
   },
   "file_extension": ".py",
   "mimetype": "text/x-python",
   "name": "python",
   "nbconvert_exporter": "python",
   "pygments_lexer": "ipython3",
   "version": "3.7.11"
  },
  "orig_nbformat": 4,
  "vscode": {
   "interpreter": {
    "hash": "8421ac13446548876abf49d21037df16d1cb364ce87fb3bcd60f2b8aeae3feb0"
   }
  }
 },
 "nbformat": 4,
 "nbformat_minor": 2
}
